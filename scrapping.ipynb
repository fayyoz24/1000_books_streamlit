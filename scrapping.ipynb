{
 "cells": [
  {
   "cell_type": "code",
   "execution_count": 1,
   "metadata": {},
   "outputs": [],
   "source": [
    "import requests\n",
    "import selenium\n",
    "from selenium import webdriver\n",
    "from selenium.webdriver.common.keys import Keys\n",
    "from time import sleep\n",
    "import pandas as pd\n",
    "from selenium.webdriver.chrome.options import Options\n",
    "import re\n",
    "import math\n",
    "import requests\n",
    "from bs4 import BeautifulSoup\n",
    "import pandas as pd\n",
    "from selenium.common.exceptions import NoSuchElementException\n",
    "from selenium.common.exceptions import ElementNotInteractableException\n",
    "import numpy as np\n",
    "from selenium import webdriver\n",
    "from selenium.webdriver.common.by import By\n",
    "from selenium.webdriver.support.ui import WebDriverWait\n",
    "from selenium.webdriver.support import expected_conditions as EC\n",
    "import time\n",
    "from selenium.webdriver.support import expected_conditions as EC"
   ]
  },
  {
   "cell_type": "code",
   "execution_count": 2,
   "metadata": {},
   "outputs": [],
   "source": [
    "options = Options()\n",
    "options.add_argument(\"start-maximized\")      \n",
    "driver = webdriver.Chrome(executable_path='C:\\programexe\\chromedriver.exe')"
   ]
  },
  {
   "cell_type": "code",
   "execution_count": 20,
   "metadata": {},
   "outputs": [
    {
     "data": {
      "text/plain": [
       "0"
      ]
     },
     "execution_count": 20,
     "metadata": {},
     "output_type": "execute_result"
    }
   ],
   "source": [
    "urls = [] #str\n",
    "titles = [] #str\n",
    "authors = [] #str\n",
    "num_reviews = [] #int\n",
    "num_ratings = [] #int\n",
    "avg_rating = []  #float\n",
    "num_votes = []  #int\n"
   ]
  },
  {
   "cell_type": "code",
   "execution_count": 18,
   "metadata": {},
   "outputs": [],
   "source": [
    "\n",
    "for j in range(1, 11):\n",
    "    url = 'https://www.goodreads.com/list/show/1.Best_Books_Ever?page='+str(j)\n",
    "    driver = webdriver.Chrome(executable_path='C:\\programexe\\chromedriver.exe')\n",
    "    driver.get(url)\n",
    "    for i in range(1, 101):\n",
    "        url_ = driver.find_element_by_xpath('/html/body/div[2]/div[3]/div[1]/div[2]/div[3]/div[5]/table/tbody/tr[1]/td[2]/div[2]/a').get_attribute('href')\n",
    "        urls.append(url_)\n",
    "        vote = driver.find_element_by_xpath('/html/body/div[2]/div[3]/div[1]/div[2]/div[3]/div[5]/table/tbody/tr['+str(i)+']/td[3]/div[2]/span/a[2]').text\n",
    "        vote = int(re.sub(r'\\D', '', vote))\n",
    "        num_votes.append(vote)\n",
    "\n",
    "        rating = driver.find_element_by_xpath('//*[@id=\"all_votes\"]/table/tbody/tr['+str(i)+']/td[3]/div[1]/span/span').text\n",
    "        rating = re.findall(r\"[-+]?\\d*\\.\\d+|\\d+\", rating)\n",
    "        num_rat = ''\n",
    "        for x in rating[1:]:\n",
    "            num_rat+=x\n",
    "        num_ratings.append(int(num_rat))\n",
    "\n",
    "        avg_rating.append(float(rating[0]))                                          \n",
    "\n",
    "        review = driver.find_element_by_xpath('//*[@id=\"all_votes\"]/table/tbody/tr['+str(i)+']/td[3]/div[2]/span/a[1]').text\n",
    "        review = int(re.sub(r'\\D', '', review))\n",
    "        num_reviews.append(review)                                        \n",
    "        \n",
    "        author = driver.find_element_by_xpath('//*[@id=\"all_votes\"]/table/tbody/tr['+str(i)+']/td[3]/span[2]/div/a/span').text\n",
    "        authors.append(author)  \n",
    "                                        \n",
    "        title = driver.find_element_by_xpath('//*[@id=\"all_votes\"]/table/tbody/tr['+str(i)+']/td[3]/a/span').text                           \n",
    "        titles.append(title)\n",
    "        driver.close()"
   ]
  },
  {
   "cell_type": "code",
   "execution_count": 52,
   "metadata": {},
   "outputs": [],
   "source": [
    "or_pub_year = [] #int\n",
    "series = []"
   ]
  },
  {
   "cell_type": "code",
   "execution_count": null,
   "metadata": {},
   "outputs": [],
   "source": [
    "i = 0\n",
    "for url in urls[i:]:\n",
    "    driver = webdriver.Chrome(executable_path='C:\\programexe\\chromedriver.exe')\n",
    "    driver.get(url)\n",
    "    try:\n",
    "      x_icon = driver.find_element_by_xpath('/html/body/div[3]/div/div[1]/div/div')\n",
    "      driver.execute_script(\"arguments[0].click();\", x_icon)\n",
    "    \n",
    "      x_icon.click()\n",
    "    except NoSuchElementException:\n",
    "        pass\n",
    "    try:\n",
    "      year = driver.find_element_by_xpath('/html/body/div[2]/div[3]/div[1]/div[2]/div[4]/div[1]/div[2]/div[5]/div[2]').text\n",
    "      or_pub_year.append(year)\n",
    "    except:\n",
    "      i = urls\n",
    "    more_details = driver.find_element_by_xpath('/html/body/div[2]/div[3]/div[1]/div[2]/div[4]/div[1]/div[2]/div[5]/div[3]/a[1]')\n",
    "    more_details.click()\n",
    "\n",
    "    try:\n",
    "      elem = driver.find_element_by_xpath(\"/html/body/div[2]/div[3]/div[1]/div[2]/div[4]/div[1]/div[2]/div[5]/div[3]/div[1]/div[4]/div[2]/a\")\n",
    "      series.append(1)\n",
    "    except NoSuchElementException:\n",
    "      series.append(0)"
   ]
  },
  {
   "cell_type": "code",
   "execution_count": 127,
   "metadata": {},
   "outputs": [],
   "source": [
    "pages = [] #int\n",
    "awards = [] #str\n",
    "the_sum_awards = [] #int\n",
    "places =[]"
   ]
  },
  {
   "cell_type": "code",
   "execution_count": 179,
   "metadata": {},
   "outputs": [
    {
     "name": "stdout",
     "output_type": "stream",
     "text": [
      "152\n",
      "354\n"
     ]
    }
   ],
   "source": [
    "i = 0\n",
    "for ur in urls[992:1000]:\n",
    "    page = requests.get(ur)\n",
    "    soup = BeautifulSoup(page.content, \"html.parser\")\n",
    "    try:\n",
    "        page_ = soup.find('span', itemprop=\"numberOfPages\").get_text()\n",
    "        page_ = int(re.sub(r'\\D', '', page_))\n",
    "        pages.append(page_)\n",
    "    except AttributeError:\n",
    "        page = requests.get(ur)\n",
    "        soup = BeautifulSoup(page.content, \"html.parser\")\n",
    "        page_ = soup.find('span', itemprop=\"numberOfPages\").get_text()\n",
    "        page_ = int(re.sub(r'\\D', '', page_))\n",
    "        pages.append(page_)\n",
    "    temp = []\n",
    "    award = soup.find_all('a', class_='award')\n",
    "    for i in award:\n",
    "        temp.append(i.text)\n",
    "    awards.append(temp)\n",
    "    \n",
    "    the_sum_awards.append(len(temp))"
   ]
  },
  {
   "cell_type": "code",
   "execution_count": 254,
   "metadata": {},
   "outputs": [
    {
     "data": {
      "text/plain": [
       "1000"
      ]
     },
     "execution_count": 254,
     "metadata": {},
     "output_type": "execute_result"
    }
   ],
   "source": [
    "len(pages)"
   ]
  },
  {
   "cell_type": "code",
   "execution_count": 56,
   "metadata": {},
   "outputs": [],
   "source": [
    "books = pd.DataFrame({\n",
    "        'Titles':titles,\n",
    "        'Authors':authors,\n",
    "        'Published year':or_pub_year,\n",
    "        'Places':places,\n",
    "        'Pages':pages,\n",
    "        'Series':series,\n",
    "        'Awards':awards,\n",
    "        'The number of awards':the_sum_awards,\n",
    "        'Reviews':num_reviews,\n",
    "        'Votes':num_votes,\n",
    "        'The number of rated people':num_ratings,\n",
    "        'Average rating':avg_rating,\n",
    "        'Urls': urls\n",
    "})"
   ]
  },
  {
   "cell_type": "code",
   "execution_count": null,
   "metadata": {},
   "outputs": [],
   "source": [
    "books.to_csv('1000_books.csv')"
   ]
  }
 ],
 "metadata": {
  "interpreter": {
   "hash": "b3ba2566441a7c06988d0923437866b63cedc61552a5af99d1f4fb67d367b25f"
  },
  "kernelspec": {
   "display_name": "Python 3.8.8 64-bit ('base': conda)",
   "language": "python",
   "name": "python3"
  },
  "language_info": {
   "codemirror_mode": {
    "name": "ipython",
    "version": 3
   },
   "file_extension": ".py",
   "mimetype": "text/x-python",
   "name": "python",
   "nbconvert_exporter": "python",
   "pygments_lexer": "ipython3",
   "version": "3.8.8"
  },
  "orig_nbformat": 4
 },
 "nbformat": 4,
 "nbformat_minor": 2
}
