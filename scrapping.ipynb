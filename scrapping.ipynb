{
 "cells": [
  {
   "cell_type": "code",
   "execution_count": 14,
   "metadata": {},
   "outputs": [],
   "source": [
    "import requests\n",
    "import selenium\n",
    "from selenium import webdriver\n",
    "from selenium.webdriver.common.keys import Keys\n",
    "from time import sleep\n",
    "import pandas as pd\n",
    "from selenium.webdriver.chrome.options import Options\n",
    "import re\n",
    "import math\n",
    "import requests\n",
    "from bs4 import BeautifulSoup\n",
    "import pandas as pd\n",
    "from selenium.common.exceptions import NoSuchElementException\n",
    "from selenium.common.exceptions import ElementNotInteractableException\n",
    "import numpy as np\n",
    "from selenium import webdriver\n",
    "from selenium.webdriver.common.by import By\n",
    "from selenium.webdriver.support.ui import WebDriverWait\n",
    "from selenium.webdriver.support import expected_conditions as EC\n",
    "import time\n",
    "from selenium.webdriver.support import expected_conditions as EC"
   ]
  },
  {
   "cell_type": "code",
   "execution_count": 2,
   "metadata": {},
   "outputs": [],
   "source": [
    "options = Options()\n",
    "options.add_argument(\"start-maximized\")      \n",
    "driver = webdriver.Chrome(executable_path='C:\\programexe\\chromedriver.exe')"
   ]
  },
  {
   "cell_type": "code",
   "execution_count": 5,
   "metadata": {},
   "outputs": [
    {
     "data": {
      "text/plain": [
       "0"
      ]
     },
     "execution_count": 5,
     "metadata": {},
     "output_type": "execute_result"
    }
   ],
   "source": [
    "urls = [] #str\n",
    "titles = [] #str\n",
    "authors = [] #str\n",
    "num_reviews = [] #int\n",
    "num_ratings = [] #int\n",
    "avg_rating = []  #float\n",
    "num_votes = []  #int\n",
    "or_pub_year = [] #int\n",
    "genres = [] # 3 str\n",
    "awards = [] #str\n",
    "places = [] #str\n",
    "len(titles)"
   ]
  },
  {
   "cell_type": "code",
   "execution_count": 8,
   "metadata": {},
   "outputs": [
    {
     "data": {
      "text/plain": [
       "[]"
      ]
     },
     "execution_count": 8,
     "metadata": {},
     "output_type": "execute_result"
    }
   ],
   "source": [
    "num_votes"
   ]
  },
  {
   "cell_type": "code",
   "execution_count": 7,
   "metadata": {},
   "outputs": [],
   "source": [
    "\n",
    "for j in range(1, 11):\n",
    "    url = 'https://www.goodreads.com/list/show/1.Best_Books_Ever?page='+str(j)\n",
    "    driver = webdriver.Chrome(executable_path='C:\\programexe\\chromedriver.exe')\n",
    "    driver.get(url)\n",
    "    # driver.implicitly_wait(20)\n",
    "    for i in range(1, 101):\n",
    "        vote = driver.find_element_by_xpath('/html/body/div[2]/div[3]/div[1]/div[2]/div[3]/div[5]/table/tbody/tr['+str(i)+']/td[3]/div[2]/span/a[2]').text\n",
    "        vote = int(re.sub(r'\\D', '', vote))\n",
    "        num_votes.append(vote)\n",
    "\n",
    "        rating = driver.find_element_by_xpath('//*[@id=\"all_votes\"]/table/tbody/tr['+str(i)+']/td[3]/div[1]/span/span').text\n",
    "        rating = re.findall(r\"[-+]?\\d*\\.\\d+|\\d+\", rating)\n",
    "        num_rat = ''\n",
    "        for x in rating[1:]:\n",
    "            num_rat+=x\n",
    "        num_ratings.append(int(num_rat))\n",
    "\n",
    "        avg_rating.append(float(rating[0]))                                          \n",
    "\n",
    "        review = driver.find_element_by_xpath('//*[@id=\"all_votes\"]/table/tbody/tr['+str(i)+']/td[3]/div[2]/span/a[1]').text\n",
    "        review = int(re.sub(r'\\D', '', review))\n",
    "        num_reviews.append(review)                                        \n",
    "        \n",
    "        author = driver.find_element_by_xpath('//*[@id=\"all_votes\"]/table/tbody/tr['+str(i)+']/td[3]/span[2]/div/a/span').text\n",
    "        authors.append(author)  \n",
    "                                        \n",
    "        title = driver.find_element_by_xpath('//*[@id=\"all_votes\"]/table/tbody/tr['+str(i)+']/td[3]/a/span').text                           \n",
    "        titles.append(title)"
   ]
  },
  {
   "cell_type": "code",
   "execution_count": null,
   "metadata": {},
   "outputs": [],
   "source": [
    "urls = [] #str\n",
    "titles = [] #str\n",
    "authors = [] #str\n",
    "num_reviews = [] #int\n",
    "num_ratings = [] #int\n",
    "avg_rating = []  #float\n",
    "num_votes = []  #int\n",
    "or_pub_year = [] #int\n",
    "genres = [] # 3 str\n",
    "awards = [] #str\n",
    "places = [] #str"
   ]
  },
  {
   "cell_type": "code",
   "execution_count": 28,
   "metadata": {},
   "outputs": [],
   "source": [
    "\n",
    "for j in range(1, 2):\n",
    "    url_ = 'https://www.goodreads.com/list/show/1.Best_Books_Ever?page='+str(j)\n",
    "    page = requests.get(url_)\n",
    "    soup = BeautifulSoup(page.content, \"html.parser\")\n",
    "    url = soup.find('a', itemprop = 'url').text\n",
    "    urls.append(url)"
   ]
  },
  {
   "cell_type": "code",
   "execution_count": 29,
   "metadata": {},
   "outputs": [
    {
     "data": {
      "text/plain": [
       "['\\nThe Hunger Games (The Hunger Games, #1)\\n']"
      ]
     },
     "execution_count": 29,
     "metadata": {},
     "output_type": "execute_result"
    }
   ],
   "source": [
    "urls"
   ]
  },
  {
   "cell_type": "code",
   "execution_count": 24,
   "metadata": {},
   "outputs": [],
   "source": [
    "short_desc = []\n",
    "page = requests.get('https://www.goodreads.com/book/show/6440.Ivanhoe')\n",
    "soup = BeautifulSoup(page.content, \"html.parser\")\n",
    "shortdesc = soup.find('span', itemprop = 'numberOfPages').text\n",
    "short_desc.append(int(re.sub(r'\\D', '', shortdesc)))\n",
    "awards.append(short_desc)"
   ]
  },
  {
   "cell_type": "code",
   "execution_count": 27,
   "metadata": {},
   "outputs": [
    {
     "name": "stdout",
     "output_type": "stream",
     "text": [
      "<class 'int'>\n"
     ]
    }
   ],
   "source": []
  }
 ],
 "metadata": {
  "interpreter": {
   "hash": "b3ba2566441a7c06988d0923437866b63cedc61552a5af99d1f4fb67d367b25f"
  },
  "kernelspec": {
   "display_name": "Python 3.8.8 64-bit ('base': conda)",
   "language": "python",
   "name": "python3"
  },
  "language_info": {
   "codemirror_mode": {
    "name": "ipython",
    "version": 3
   },
   "file_extension": ".py",
   "mimetype": "text/x-python",
   "name": "python",
   "nbconvert_exporter": "python",
   "pygments_lexer": "ipython3",
   "version": "3.8.8"
  },
  "orig_nbformat": 4
 },
 "nbformat": 4,
 "nbformat_minor": 2
}
